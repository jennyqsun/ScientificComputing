{
 "cells": [
  {
   "cell_type": "code",
   "execution_count": 19,
   "id": "5ff71aae",
   "metadata": {},
   "outputs": [],
   "source": [
    "'''\n",
    "6) NLA.8.2\n",
    "7) Check the matrix given\n",
    "'''\n",
    "import numpy as np\n",
    "from numpy import linalg\n",
    "\n",
    "def mgs(A):\n",
    "    '''\n",
    "    :param A: m x n matrix\n",
    "    :return:   Q: m x n matriax with orthonormal columns\n",
    "               R: n x n triangular matrix\n",
    "    '''\n",
    "    Q = A.copy().astype('float32')   # let q_i overwrite v_i\n",
    "    nRow = A.shape[0]\n",
    "    nCol = A.shape[1]\n",
    "    R = np.zeros((nCol, nCol), dtype='float32')\n",
    "    # Q = np.zeros((nRow, nCol), dtype='float32')\n",
    "    for i in range(nCol):\n",
    "        R[i,i] = linalg.norm(Q[:,i])\n",
    "        Q[:,i] /= R[i,i]\n",
    "        for j in range(i+1, nCol):\n",
    "            R[i,j] = Q[:,i].T @ Q[:,j]\n",
    "            Q[:,j] -= R[i,j] * Q[:,i]\n",
    "    return Q,R\n"
   ]
  },
  {
   "cell_type": "code",
   "execution_count": 20,
   "id": "9e52920a",
   "metadata": {},
   "outputs": [
    {
     "name": "stdout",
     "output_type": "stream",
     "text": [
      "Q: \n",
      " [[ 0.7071017   0.70710677]\n",
      " [ 0.70711184 -0.70710677]]\n",
      "R: \n",
      " [[9.8995656e-01 1.0000045e+00]\n",
      " [0.0000000e+00 7.1649642e-06]]\n",
      "norm from my function: 1.0142310648457003e-05\n",
      "norm from linalg.qr:  6.22365292450572e-08\n"
     ]
    }
   ],
   "source": [
    "\n",
    "# check orthogonality\n",
    "A = np.array(((0.70000,0.70711), (0.70001, 0.70711)), dtype='float32')\n",
    "Q,R = mgs(A)\n",
    "print('Q: \\n', Q)\n",
    "print('R: \\n', R)\n",
    "normQ = linalg.norm(Q.T @Q - np.eye(2))\n",
    "print('norm from my function:', normQ)\n",
    "\n",
    "Q2,R2 = linalg.qr(A)\n",
    "normQ2 = linalg.norm(Q2.T @Q2 - np.eye(2))\n",
    "print('norm from linalg.qr: ', normQ2)"
   ]
  },
  {
   "cell_type": "code",
   "execution_count": 28,
   "id": "575551d6",
   "metadata": {},
   "outputs": [],
   "source": [
    "'''\n",
    "9)\n",
    "\n",
    "'''\n",
    "import numpy as np\n",
    "from numpy import linalg\n",
    "\n",
    "\n",
    "\n",
    "def house(A):\n",
    "    nRow = A.shape[0]\n",
    "    nCol = A.shape[1]\n",
    "    A_ = A.copy()\n",
    "    vk = np.zeros((nRow, nCol))\n",
    "    for k in range(nCol):\n",
    "        x = A[k:nRow, k]\n",
    "        e1 = np.zeros_like(x)\n",
    "        e1[0] = 1\n",
    "        vector = linalg.norm(x)*e1\n",
    "        if x[0]  < 0:\n",
    "            vector = -vector\n",
    "        v =  vector + x\n",
    "        v =  v/ linalg.norm(v)\n",
    "        vk[k:,k] = v\n",
    "        A_[k:nRow, k:nCol] =  A_[k:nRow, k:nCol] - 2*(v.reshape(-1,1))@(v.T@ A_[k:nRow, k:nCol]).reshape(1,-1)\n",
    "    return vk, A_\n",
    "\n",
    "\n",
    "\n"
   ]
  },
  {
   "cell_type": "code",
   "execution_count": null,
   "id": "7ad21dcf",
   "metadata": {},
   "outputs": [],
   "source": [
    "\n",
    "def formQ(W):\n",
    "    Q = np.zeros((nRow, nRow))\n",
    "    nRow = A.shape[0]\n",
    "    nCol = W.shape[1]\n",
    "    for k in range(nCol):\n",
    "        v = W[:,k]\n",
    "        size_v = v.shape[0]\n",
    "        Hbar = np.identity(size_v) - ((2 * np.matmul(np.transpose(v), v)) / np.matmul(v, np.transpose(v)))\n",
    "        H = np.identity(nRow)\n",
    "        H[k:,k:]= Hbar\n",
    "    return Q\n"
   ]
  },
  {
   "cell_type": "code",
   "execution_count": 33,
   "id": "ef6e8a9e",
   "metadata": {},
   "outputs": [
    {
     "name": "stdout",
     "output_type": "stream",
     "text": [
      "[[1 2 3]\n",
      " [4 5 6]\n",
      " [7 8 7]\n",
      " [4 2 3]\n",
      " [4 2 2]]\n"
     ]
    }
   ],
   "source": [
    "'''\n",
    "10)\n",
    "'''\n",
    "Z = np.array(((1,2,3),(4,5,6),(7,8,7),(4,2,3),(4,2,2)))\n",
    "print(Z)"
   ]
  },
  {
   "cell_type": "code",
   "execution_count": 34,
   "id": "68e58445",
   "metadata": {},
   "outputs": [
    {
     "name": "stdout",
     "output_type": "stream",
     "text": [
      "Q: \n",
      " [[ 0.7071017   0.70710677]\n",
      " [ 0.70711184 -0.70710677]]\n",
      "R: \n",
      " [[9.8995656e-01 1.0000045e+00]\n",
      " [0.0000000e+00 7.1649642e-06]]\n"
     ]
    }
   ],
   "source": [
    "Q,R = mgs(A)\n",
    "print('Q: \\n', Q)\n",
    "print('R: \\n', R)"
   ]
  },
  {
   "cell_type": "code",
   "execution_count": 36,
   "id": "e6aaba50",
   "metadata": {},
   "outputs": [
    {
     "name": "stdout",
     "output_type": "stream",
     "text": [
      "W: \n",
      " [[0.92387819 0.        ]\n",
      " [0.38268673 1.        ]]\n",
      "R: \n",
      " [[-9.8995668e-01 -1.0000045e+00]\n",
      " [-5.9604645e-08  7.1525574e-06]]\n"
     ]
    }
   ],
   "source": [
    "W, R = house(A)\n",
    "print('W: \\n',W)\n",
    "print('R: \\n', R)"
   ]
  },
  {
   "cell_type": "code",
   "execution_count": null,
   "id": "ea6e6844",
   "metadata": {},
   "outputs": [],
   "source": []
  },
  {
   "cell_type": "code",
   "execution_count": null,
   "id": "02b2ea96",
   "metadata": {},
   "outputs": [],
   "source": []
  },
  {
   "cell_type": "code",
   "execution_count": null,
   "id": "14a8ee91",
   "metadata": {},
   "outputs": [],
   "source": []
  }
 ],
 "metadata": {
  "kernelspec": {
   "display_name": "Python 3",
   "language": "python",
   "name": "python3"
  },
  "language_info": {
   "codemirror_mode": {
    "name": "ipython",
    "version": 3
   },
   "file_extension": ".py",
   "mimetype": "text/x-python",
   "name": "python",
   "nbconvert_exporter": "python",
   "pygments_lexer": "ipython3",
   "version": "3.6.13"
  }
 },
 "nbformat": 4,
 "nbformat_minor": 5
}
